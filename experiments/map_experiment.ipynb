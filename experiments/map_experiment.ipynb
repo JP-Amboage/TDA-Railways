{
 "cells": [
  {
   "cell_type": "code",
   "execution_count": 1,
   "metadata": {},
   "outputs": [],
   "source": [
    "import geopy\n",
    "import pandas as pd\n",
    "import os\n",
    "import zipfile\n",
    "import sys"
   ]
  },
  {
   "cell_type": "code",
   "execution_count": 2,
   "metadata": {},
   "outputs": [
    {
     "data": {
      "text/plain": [
       "'c:\\\\Users\\\\nicoj\\\\OneDrive - University Of Oregon\\\\GitHub\\\\TDA-Railways'"
      ]
     },
     "execution_count": 2,
     "metadata": {},
     "output_type": "execute_result"
    }
   ],
   "source": [
    "if not(os.getcwd().endswith('TDA-Railways')):\n",
    "    os.chdir('..')\n",
    "os.getcwd()"
   ]
  },
  {
   "cell_type": "code",
   "execution_count": 4,
   "metadata": {},
   "outputs": [],
   "source": [
    "path = 'Data/gtfs_fp2024_2024-10-28'"
   ]
  },
  {
   "cell_type": "code",
   "execution_count": 5,
   "metadata": {},
   "outputs": [
    {
     "data": {
      "text/plain": [
       "['agency.txt',\n",
       " 'calendar.txt',\n",
       " 'calendar_dates.txt',\n",
       " 'feed_info.txt',\n",
       " 'routes.txt',\n",
       " 'stops.txt',\n",
       " 'stop_times.txt',\n",
       " 'transfers.txt',\n",
       " 'trips.txt']"
      ]
     },
     "execution_count": 5,
     "metadata": {},
     "output_type": "execute_result"
    }
   ],
   "source": [
    "os.listdir(path)"
   ]
  },
  {
   "cell_type": "code",
   "execution_count": 34,
   "metadata": {},
   "outputs": [],
   "source": [
    "import ideal_graph as ig"
   ]
  },
  {
   "cell_type": "code",
   "execution_count": 35,
   "metadata": {},
   "outputs": [],
   "source": [
    "stops = pd.read_csv(path + '/stops.txt')\n",
    "indexed_stops = stops.set_index('stop_id')"
   ]
  },
  {
   "cell_type": "code",
   "execution_count": 36,
   "metadata": {},
   "outputs": [
    {
     "name": "stderr",
     "output_type": "stream",
     "text": [
      "C:\\Users\\nicoj\\AppData\\Local\\Temp\\ipykernel_21644\\2850247670.py:2: SettingWithCopyWarning: \n",
      "A value is trying to be set on a copy of a slice from a DataFrame.\n",
      "Try using .loc[row_indexer,col_indexer] = value instead\n",
      "\n",
      "See the caveats in the documentation: https://pandas.pydata.org/pandas-docs/stable/user_guide/indexing.html#returning-a-view-versus-a-copy\n",
      "  parent_stops['stop_id']=parent_stops['stop_id'].str.replace('Parent','')\n"
     ]
    },
    {
     "data": {
      "text/plain": [
       "<bound method IndexOpsMixin.tolist of Index(['1100008', '1100009', '1100010', '1100011', '1100012', '1100013',\n",
       "       '1100014', '1100015', '1100016', '1100017',\n",
       "       ...\n",
       "       '1100474', '1100475', '1100476', '1100477', '1100478', '1100479',\n",
       "       '1100480', '1100481', '1100482', '1100483'],\n",
       "      dtype='object', name='stop_id', length=400)>"
      ]
     },
     "execution_count": 36,
     "metadata": {},
     "output_type": "execute_result"
    }
   ],
   "source": [
    "parent_stops=stops.query('location_type == 1')\n",
    "parent_stops['stop_id']=parent_stops['stop_id'].str.replace('Parent','')\n",
    "indexed_parent_stops=parent_stops.set_index('stop_id')\n",
    "indexed_parent_stops.head(400).index.to_list"
   ]
  },
  {
   "cell_type": "code",
   "execution_count": 37,
   "metadata": {},
   "outputs": [
    {
     "name": "stdout",
     "output_type": "stream",
     "text": [
      "                      lat1      lon1       lat2      lon2  distance\n",
      "loc1    loc2                                                       \n",
      "1100008 1100008  47.710084  7.859648  47.710084  7.859648  0.000000\n",
      "        1100009  47.710084  7.859648  47.713191  7.862909  0.423321\n",
      "        1100010  47.710084  7.859648  47.714618  7.872350  1.078222\n",
      "        1100011  47.710084  7.859648  47.728209  7.877470  2.418495\n",
      "        1100012  47.710084  7.859648  47.734082  7.881387  3.127183\n",
      "...                    ...       ...        ...       ...       ...\n",
      "1100483 1100479  47.735985  7.671855  47.773538  7.641474  4.756320\n",
      "        1100480  47.735985  7.671855  47.787205  7.595157  8.092815\n",
      "        1100481  47.735985  7.671855  47.714007  7.657239  2.678344\n",
      "        1100482  47.735985  7.671855  47.714472  7.661803  2.507936\n",
      "        1100483  47.735985  7.671855  47.735985  7.671855  0.000000\n",
      "\n",
      "[160000 rows x 5 columns]\n",
      "loc2       1100008    1100009    1100010    1100011    1100012    1100013  \\\n",
      "loc1                                                                        \n",
      "1100008   0.000000   0.423321   1.078222   2.418495   3.127183   3.685272   \n",
      "1100009   0.423321   0.000000   0.725981   1.995414   2.704986   3.266544   \n",
      "1100010   1.078222   0.725981   0.000000   1.559221   2.267854   2.866214   \n",
      "1100011   2.418495   1.995414   1.559221   0.000000   0.716037   1.307266   \n",
      "1100012   3.127183   2.704986   2.267854   0.716037   0.000000   0.607861   \n",
      "...            ...        ...        ...        ...        ...        ...   \n",
      "1100479  17.818580  17.910707  18.512149  18.399647  18.515811  18.443004   \n",
      "1100480  21.607606  21.698372  22.296889  22.159296  22.256672  22.164297   \n",
      "1100481  15.194919  15.433162  16.141267  16.598470  16.963581  17.115265   \n",
      "1100482  14.854168  15.091072  15.798638  16.252660  16.617318  16.769009   \n",
      "1100483  14.380246  14.555497  15.227727  15.447603  15.717721  15.783705   \n",
      "\n",
      "loc2       1100014    1100015    1100016    1100017  ...    1100474  \\\n",
      "loc1                                                 ...              \n",
      "1100008   5.397383   5.942045   7.287348   7.878379  ...  16.763866   \n",
      "1100009   4.982701   5.536896   6.887287   7.475214  ...  16.893738   \n",
      "1100010   4.595218   5.206567   6.574405   7.143454  ...  17.529932   \n",
      "1100011   3.036951   3.651070   5.020592   5.585764  ...  17.562657   \n",
      "1100012   2.328899   2.963998   4.334517   4.890187  ...  17.745941   \n",
      "...            ...        ...        ...        ...  ...        ...   \n",
      "1100479  18.687570  18.351670  18.456772  18.796125  ...   1.907904   \n",
      "1100480  22.335324  21.964455  21.983444  22.285930  ...   5.158702   \n",
      "1100481  17.963173  17.889369  18.480856  18.979336  ...   4.818974   \n",
      "1100482  17.618767  17.546772  18.142534  18.642500  ...   4.833976   \n",
      "1100483  16.421616  16.255431  16.695760  17.151441  ...   2.965098   \n",
      "\n",
      "loc2       1100475    1100476    1100477    1100478    1100479    1100480  \\\n",
      "loc1                                                                        \n",
      "1100008  19.487141  16.749200  20.121306  20.423614  17.818580  21.607606   \n",
      "1100009  19.673022  16.847519  20.183869  20.465897  17.910707  21.698372   \n",
      "1100010  20.350968  17.455435  20.754311  21.014198  18.512149  22.296889   \n",
      "1100011  20.580124  17.372654  20.521848  20.707864  18.399647  22.159296   \n",
      "1100012  20.842397  17.504834  20.578349  20.729414  18.515811  22.256672   \n",
      "...            ...        ...        ...        ...        ...        ...   \n",
      "1100479   4.712344   1.097610   2.655546   3.442813   0.000000   3.789108   \n",
      "1100480   5.319826   4.867448   2.062520   2.722966   3.789108   0.000000   \n",
      "1100481   4.933163   5.983031   9.203643  10.114198   6.723747   9.375837   \n",
      "1100482   5.187856   5.958034   9.260862  10.154345   6.741869   9.506288   \n",
      "1100483   5.133856   3.795277   7.401907   8.187452   4.756320   8.092815   \n",
      "\n",
      "loc2       1100481    1100482    1100483  \n",
      "loc1                                      \n",
      "1100008  15.194919  14.854168  14.380246  \n",
      "1100009  15.433162  15.091072  14.555497  \n",
      "1100010  16.141267  15.798638  15.227727  \n",
      "1100011  16.598470  16.252660  15.447603  \n",
      "1100012  16.963581  16.617318  15.717721  \n",
      "...            ...        ...        ...  \n",
      "1100479   6.723747   6.741869   4.756320  \n",
      "1100480   9.375837   9.506288   8.092815  \n",
      "1100481   0.000000   0.346312   2.678344  \n",
      "1100482   0.346312   0.000000   2.507936  \n",
      "1100483   2.678344   2.507936   0.000000  \n",
      "\n",
      "[400 rows x 400 columns]\n",
      "[[ 0.          0.42332069  1.07822227 ... 15.19491867 14.85416774\n",
      "  14.38024641]\n",
      " [ 0.42332069  0.          0.72598149 ... 15.43316163 15.09107168\n",
      "  14.55549671]\n",
      " [ 1.07822227  0.72598149  0.         ... 16.14126711 15.79863839\n",
      "  15.22772661]\n",
      " ...\n",
      " [15.19491867 15.43316163 16.14126711 ...  0.          0.34631239\n",
      "   2.6783437 ]\n",
      " [14.85416774 15.09107168 15.79863839 ...  0.34631239  0.\n",
      "   2.50793635]\n",
      " [14.38024641 14.55549671 15.22772661 ...  2.6783437   2.50793635\n",
      "   0.        ]]\n"
     ]
    }
   ],
   "source": [
    "test_stop_list=indexed_parent_stops.head(400).index.to_list()\n",
    "# print(test_stop_list)\n",
    "# test_filtered_df=ig.filter_stops(test_stop_list)\n",
    "test_filtered_df=indexed_stops.loc[test_stop_list]\n",
    "test_dist_df=ig.stops_dist_df(test_filtered_df)\n",
    "print(test_dist_df)\n",
    "print(ig.dist_df_to_cols(test_dist_df))\n",
    "print(ig.dist_df_to_matrix(test_dist_df))"
   ]
  },
  {
   "cell_type": "code",
   "execution_count": 39,
   "metadata": {},
   "outputs": [
    {
     "data": {
      "image/png": "[encoded data removed]",
      "text/plain": [
       "<Figure size 640x480 with 1 Axes>"
      ]
     },
     "metadata": {},
     "output_type": "display_data"
    }
   ],
   "source": [
    "from ripser import ripser\n",
    "from persim import plot_diagrams\n",
    "\n",
    "dist_mat = ig.dist_df_to_matrix(test_dist_df)\n",
    "result = ripser(dist_mat, distance_matrix=True)\n",
    "persistence_diagram = result['dgms']\n",
    "\n",
    "plot_diagrams(persistence_diagram)"
   ]
  },
  {
   "cell_type": "code",
   "execution_count": null,
   "metadata": {},
   "outputs": [],
   "source": []
  },
  {
   "cell_type": "code",
   "execution_count": null,
   "metadata": {},
   "outputs": [],
   "source": []
  },
  {
   "cell_type": "code",
   "execution_count": 12,
   "metadata": {},
   "outputs": [
    {
     "name": "stderr",
     "output_type": "stream",
     "text": [
      "C:\\Users\\nicoj\\AppData\\Local\\Temp\\ipykernel_29512\\2850247670.py:2: SettingWithCopyWarning: \n",
      "A value is trying to be set on a copy of a slice from a DataFrame.\n",
      "Try using .loc[row_indexer,col_indexer] = value instead\n",
      "\n",
      "See the caveats in the documentation: https://pandas.pydata.org/pandas-docs/stable/user_guide/indexing.html#returning-a-view-versus-a-copy\n",
      "  parent_stops['stop_id']=parent_stops['stop_id'].str.replace('Parent','')\n"
     ]
    },
    {
     "data": {
      "text/plain": [
       "<bound method IndexOpsMixin.tolist of Index(['1100008', '1100009', '1100010', '1100011', '1100012', '1100013',\n",
       "       '1100014', '1100015', '1100016', '1100017',\n",
       "       ...\n",
       "       '1100474', '1100475', '1100476', '1100477', '1100478', '1100479',\n",
       "       '1100480', '1100481', '1100482', '1100483'],\n",
       "      dtype='object', name='stop_id', length=400)>"
      ]
     },
     "execution_count": 12,
     "metadata": {},
     "output_type": "execute_result"
    }
   ],
   "source": [
    "parent_stops=stops.query('location_type == 1')\n",
    "parent_stops['stop_id']=parent_stops['stop_id'].str.replace('Parent','')\n",
    "indexed_parent_stops=parent_stops.set_index('stop_id')\n",
    "indexed_parent_stops.head(400).index.to_list"
   ]
  },
  {
   "cell_type": "code",
   "execution_count": 68,
   "metadata": {},
   "outputs": [
    {
     "data": {
      "text/plain": [
       "<bound method NDFrame.head of               lat2      lon2\n",
       "loc2                        \n",
       "1100008  47.710084  7.859648\n",
       "1100009  47.713191  7.862909\n",
       "1100010  47.714618  7.872350\n",
       "1100011  47.728209  7.877470\n",
       "1100012  47.734082  7.881387\n",
       "...            ...       ...\n",
       "8780099  48.070833  5.782222\n",
       "8792902  44.405666  4.397298\n",
       "8793698  48.819473  7.559682\n",
       "9400283  47.575812  7.525376\n",
       "9400357  47.588016  7.579661\n",
       "\n",
       "[33937 rows x 2 columns]>"
      ]
     },
     "execution_count": 68,
     "metadata": {},
     "output_type": "execute_result"
    }
   ],
   "source": [
    "\n",
    "aux1=indexed_parent_stops[['stop_lat','stop_lon']]\n",
    "index1= aux1.index\n",
    "index1.names=['loc1']\n",
    "aux1=aux1.rename(columns={\"stop_lat\": \"lat1\", \"stop_lon\": \"lon1\"})\n",
    "aux1.head(20)\n",
    "aux2=indexed_parent_stops[['stop_lat','stop_lon']]\n",
    "index2= aux2.index\n",
    "index2.names=['loc2']\n",
    "aux2=aux2.rename(columns={\"stop_lat\": \"lat2\", \"stop_lon\": \"lon2\"})\n",
    "aux2.head"
   ]
  },
  {
   "cell_type": "code",
   "execution_count": 9,
   "metadata": {},
   "outputs": [],
   "source": [
    "import geopy.distance\n",
    "def geo_dist(lat1,lon1,lat2,lon2):\n",
    "    coord1= (lat1,lon1)\n",
    "    coord2= (lat2,lon2)\n",
    "    return geopy.distance.distance(coord1,coord2).km\n",
    "def geo_dist_row(row):\n",
    "    return geo_dist(row['lat1'],row['lon1'],row['lat2'],row['lon2'])"
   ]
  },
  {
   "cell_type": "code",
   "execution_count": 41,
   "metadata": {},
   "outputs": [],
   "source": [
    "indexed_stops = stops.set_index('stop_id')\n",
    "def filter_stops(index_list):\n",
    "    return indexed_stops.loc[index_list]\n",
    "\n",
    "def stops_product_df(stops_df):\n",
    "    aux1=stops_df[['stop_lat','stop_lon']].copy()\n",
    "    aux2=aux1.copy()\n",
    "    index1= aux1.index\n",
    "    index1.names=['loc1']\n",
    "    aux1=aux1.rename(columns={\"stop_lat\": \"lat1\", \"stop_lon\": \"lon1\"})\n",
    "    index2= aux2.index\n",
    "    index2.names=['loc2']\n",
    "    aux2=aux2.rename(columns={\"stop_lat\": \"lat2\", \"stop_lon\": \"lon2\"})\n",
    "    prod_df=aux1.merge(aux2,how='cross')\n",
    "    prod_index= pd.MultiIndex.from_product([aux1.index , aux2.index])\n",
    "    prod_df.index=prod_index\n",
    "    return prod_df.copy()\n",
    "\n",
    "def stops_dist_df(stops_df):\n",
    "    distance_df= stops_product_df(stops_df)\n",
    "    distance_df['distance']=distance_df.apply(geo_dist_row, axis=1)\n",
    "    return distance_df.copy()\n",
    "\n",
    "def dist_df_to_cols(distance_df):\n",
    "    aux_df=distance_df.reset_index(level=1)\n",
    "    df_cols=aux_df.pivot(values='distance',columns='loc2')\n",
    "    return df_cols.copy()\n",
    "        \n",
    "def dist_df_to_matrix(distance_df):\n",
    "    return dist_df_to_cols(distance_df).to_numpy()"
   ]
  },
  {
   "cell_type": "code",
   "execution_count": 42,
   "metadata": {},
   "outputs": [
    {
     "name": "stdout",
     "output_type": "stream",
     "text": [
      "                      lat1      lon1       lat2      lon2  distance\n",
      "loc1    loc2                                                       \n",
      "1100008 1100008  47.710084  7.859648  47.710084  7.859648  0.000000\n",
      "        1100009  47.710084  7.859648  47.713191  7.862909  0.423321\n",
      "        1100010  47.710084  7.859648  47.714618  7.872350  1.078222\n",
      "        1100011  47.710084  7.859648  47.728209  7.877470  2.418495\n",
      "        1100012  47.710084  7.859648  47.734082  7.881387  3.127183\n",
      "...                    ...       ...        ...       ...       ...\n",
      "1100483 1100479  47.735985  7.671855  47.773538  7.641474  4.756320\n",
      "        1100480  47.735985  7.671855  47.787205  7.595157  8.092815\n",
      "        1100481  47.735985  7.671855  47.714007  7.657239  2.678344\n",
      "        1100482  47.735985  7.671855  47.714472  7.661803  2.507936\n",
      "        1100483  47.735985  7.671855  47.735985  7.671855  0.000000\n",
      "\n",
      "[160000 rows x 5 columns]\n",
      "loc2       1100008    1100009    1100010    1100011    1100012    1100013  \\\n",
      "loc1                                                                        \n",
      "1100008   0.000000   0.423321   1.078222   2.418495   3.127183   3.685272   \n",
      "1100009   0.423321   0.000000   0.725981   1.995414   2.704986   3.266544   \n",
      "1100010   1.078222   0.725981   0.000000   1.559221   2.267854   2.866214   \n",
      "1100011   2.418495   1.995414   1.559221   0.000000   0.716037   1.307266   \n",
      "1100012   3.127183   2.704986   2.267854   0.716037   0.000000   0.607861   \n",
      "...            ...        ...        ...        ...        ...        ...   \n",
      "1100479  17.818580  17.910707  18.512149  18.399647  18.515811  18.443004   \n",
      "1100480  21.607606  21.698372  22.296889  22.159296  22.256672  22.164297   \n",
      "1100481  15.194919  15.433162  16.141267  16.598470  16.963581  17.115265   \n",
      "1100482  14.854168  15.091072  15.798638  16.252660  16.617318  16.769009   \n",
      "1100483  14.380246  14.555497  15.227727  15.447603  15.717721  15.783705   \n",
      "\n",
      "loc2       1100014    1100015    1100016    1100017  ...    1100474  \\\n",
      "loc1                                                 ...              \n",
      "1100008   5.397383   5.942045   7.287348   7.878379  ...  16.763866   \n",
      "1100009   4.982701   5.536896   6.887287   7.475214  ...  16.893738   \n",
      "1100010   4.595218   5.206567   6.574405   7.143454  ...  17.529932   \n",
      "1100011   3.036951   3.651070   5.020592   5.585764  ...  17.562657   \n",
      "1100012   2.328899   2.963998   4.334517   4.890187  ...  17.745941   \n",
      "...            ...        ...        ...        ...  ...        ...   \n",
      "1100479  18.687570  18.351670  18.456772  18.796125  ...   1.907904   \n",
      "1100480  22.335324  21.964455  21.983444  22.285930  ...   5.158702   \n",
      "1100481  17.963173  17.889369  18.480856  18.979336  ...   4.818974   \n",
      "1100482  17.618767  17.546772  18.142534  18.642500  ...   4.833976   \n",
      "1100483  16.421616  16.255431  16.695760  17.151441  ...   2.965098   \n",
      "\n",
      "loc2       1100475    1100476    1100477    1100478    1100479    1100480  \\\n",
      "loc1                                                                        \n",
      "1100008  19.487141  16.749200  20.121306  20.423614  17.818580  21.607606   \n",
      "1100009  19.673022  16.847519  20.183869  20.465897  17.910707  21.698372   \n",
      "1100010  20.350968  17.455435  20.754311  21.014198  18.512149  22.296889   \n",
      "1100011  20.580124  17.372654  20.521848  20.707864  18.399647  22.159296   \n",
      "1100012  20.842397  17.504834  20.578349  20.729414  18.515811  22.256672   \n",
      "...            ...        ...        ...        ...        ...        ...   \n",
      "1100479   4.712344   1.097610   2.655546   3.442813   0.000000   3.789108   \n",
      "1100480   5.319826   4.867448   2.062520   2.722966   3.789108   0.000000   \n",
      "1100481   4.933163   5.983031   9.203643  10.114198   6.723747   9.375837   \n",
      "1100482   5.187856   5.958034   9.260862  10.154345   6.741869   9.506288   \n",
      "1100483   5.133856   3.795277   7.401907   8.187452   4.756320   8.092815   \n",
      "\n",
      "loc2       1100481    1100482    1100483  \n",
      "loc1                                      \n",
      "1100008  15.194919  14.854168  14.380246  \n",
      "1100009  15.433162  15.091072  14.555497  \n",
      "1100010  16.141267  15.798638  15.227727  \n",
      "1100011  16.598470  16.252660  15.447603  \n",
      "1100012  16.963581  16.617318  15.717721  \n",
      "...            ...        ...        ...  \n",
      "1100479   6.723747   6.741869   4.756320  \n",
      "1100480   9.375837   9.506288   8.092815  \n",
      "1100481   0.000000   0.346312   2.678344  \n",
      "1100482   0.346312   0.000000   2.507936  \n",
      "1100483   2.678344   2.507936   0.000000  \n",
      "\n",
      "[400 rows x 400 columns]\n",
      "[[ 0.          0.42332069  1.07822227 ... 15.19491867 14.85416774\n",
      "  14.38024641]\n",
      " [ 0.42332069  0.          0.72598149 ... 15.43316163 15.09107168\n",
      "  14.55549671]\n",
      " [ 1.07822227  0.72598149  0.         ... 16.14126711 15.79863839\n",
      "  15.22772661]\n",
      " ...\n",
      " [15.19491867 15.43316163 16.14126711 ...  0.          0.34631239\n",
      "   2.6783437 ]\n",
      " [14.85416774 15.09107168 15.79863839 ...  0.34631239  0.\n",
      "   2.50793635]\n",
      " [14.38024641 14.55549671 15.22772661 ...  2.6783437   2.50793635\n",
      "   0.        ]]\n"
     ]
    }
   ],
   "source": [
    "test_stop_list=indexed_parent_stops.head(400).index.to_list()\n",
    "# print(test_stop_list)\n",
    "test_filtered_df=filter_stops(test_stop_list)\n",
    "test_dist_df=stops_dist_df(test_filtered_df)\n",
    "print(test_dist_df)\n",
    "print(dist_df_to_cols(test_dist_df))\n",
    "print(dist_df_to_matrix(test_dist_df))"
   ]
  },
  {
   "cell_type": "code",
   "execution_count": 43,
   "metadata": {},
   "outputs": [
    {
     "data": {
      "image/png": "[encoded data removed]",
      "text/plain": [
       "<Figure size 640x480 with 1 Axes>"
      ]
     },
     "metadata": {},
     "output_type": "display_data"
    }
   ],
   "source": [
    "from ripser import ripser\n",
    "from persim import plot_diagrams\n",
    "\n",
    "dist_mat = dist_df_to_matrix(test_dist_df)\n",
    "result = ripser(dist_mat, distance_matrix=True)\n",
    "persistence_diagram = result['dgms']\n",
    "\n",
    "plot_diagrams(persistence_diagram)"
   ]
  },
  {
   "cell_type": "code",
   "execution_count": 40,
   "metadata": {},
   "outputs": [
    {
     "name": "stdout",
     "output_type": "stream",
     "text": [
      "loc2       1100008    1100009    1100010    1100011    1100012    1100013  \\\n",
      "loc1                                                                        \n",
      "1100008   0.000000   0.423321   1.078222   2.418495   3.127183   3.685272   \n",
      "1100009   0.423321   0.000000   0.725981   1.995414   2.704986   3.266544   \n",
      "1100010   1.078222   0.725981   0.000000   1.559221   2.267854   2.866214   \n",
      "1100011   2.418495   1.995414   1.559221   0.000000   0.716037   1.307266   \n",
      "1100012   3.127183   2.704986   2.267854   0.716037   0.000000   0.607861   \n",
      "...            ...        ...        ...        ...        ...        ...   \n",
      "1100479  17.818580  17.910707  18.512149  18.399647  18.515811  18.443004   \n",
      "1100480  21.607606  21.698372  22.296889  22.159296  22.256672  22.164297   \n",
      "1100481  15.194919  15.433162  16.141267  16.598470  16.963581  17.115265   \n",
      "1100482  14.854168  15.091072  15.798638  16.252660  16.617318  16.769009   \n",
      "1100483  14.380246  14.555497  15.227727  15.447603  15.717721  15.783705   \n",
      "\n",
      "loc2       1100014    1100015    1100016    1100017  ...    1100474  \\\n",
      "loc1                                                 ...              \n",
      "1100008   5.397383   5.942045   7.287348   7.878379  ...  16.763866   \n",
      "1100009   4.982701   5.536896   6.887287   7.475214  ...  16.893738   \n",
      "1100010   4.595218   5.206567   6.574405   7.143454  ...  17.529932   \n",
      "1100011   3.036951   3.651070   5.020592   5.585764  ...  17.562657   \n",
      "1100012   2.328899   2.963998   4.334517   4.890187  ...  17.745941   \n",
      "...            ...        ...        ...        ...  ...        ...   \n",
      "1100479  18.687570  18.351670  18.456772  18.796125  ...   1.907904   \n",
      "1100480  22.335324  21.964455  21.983444  22.285930  ...   5.158702   \n",
      "1100481  17.963173  17.889369  18.480856  18.979336  ...   4.818974   \n",
      "1100482  17.618767  17.546772  18.142534  18.642500  ...   4.833976   \n",
      "1100483  16.421616  16.255431  16.695760  17.151441  ...   2.965098   \n",
      "\n",
      "loc2       1100475    1100476    1100477    1100478    1100479    1100480  \\\n",
      "loc1                                                                        \n",
      "1100008  19.487141  16.749200  20.121306  20.423614  17.818580  21.607606   \n",
      "1100009  19.673022  16.847519  20.183869  20.465897  17.910707  21.698372   \n",
      "1100010  20.350968  17.455435  20.754311  21.014198  18.512149  22.296889   \n",
      "1100011  20.580124  17.372654  20.521848  20.707864  18.399647  22.159296   \n",
      "1100012  20.842397  17.504834  20.578349  20.729414  18.515811  22.256672   \n",
      "...            ...        ...        ...        ...        ...        ...   \n",
      "1100479   4.712344   1.097610   2.655546   3.442813   0.000000   3.789108   \n",
      "1100480   5.319826   4.867448   2.062520   2.722966   3.789108   0.000000   \n",
      "1100481   4.933163   5.983031   9.203643  10.114198   6.723747   9.375837   \n",
      "1100482   5.187856   5.958034   9.260862  10.154345   6.741869   9.506288   \n",
      "1100483   5.133856   3.795277   7.401907   8.187452   4.756320   8.092815   \n",
      "\n",
      "loc2       1100481    1100482    1100483  \n",
      "loc1                                      \n",
      "1100008  15.194919  14.854168  14.380246  \n",
      "1100009  15.433162  15.091072  14.555497  \n",
      "1100010  16.141267  15.798638  15.227727  \n",
      "1100011  16.598470  16.252660  15.447603  \n",
      "1100012  16.963581  16.617318  15.717721  \n",
      "...            ...        ...        ...  \n",
      "1100479   6.723747   6.741869   4.756320  \n",
      "1100480   9.375837   9.506288   8.092815  \n",
      "1100481   0.000000   0.346312   2.678344  \n",
      "1100482   0.346312   0.000000   2.507936  \n",
      "1100483   2.678344   2.507936   0.000000  \n",
      "\n",
      "[400 rows x 400 columns]\n"
     ]
    },
    {
     "data": {
      "text/plain": [
       "array([[ 0.        ,  0.42332069,  1.07822227, ..., 15.19491867,\n",
       "        14.85416774, 14.38024641],\n",
       "       [ 0.42332069,  0.        ,  0.72598149, ..., 15.43316163,\n",
       "        15.09107168, 14.55549671],\n",
       "       [ 1.07822227,  0.72598149,  0.        , ..., 16.14126711,\n",
       "        15.79863839, 15.22772661],\n",
       "       ...,\n",
       "       [15.19491867, 15.43316163, 16.14126711, ...,  0.        ,\n",
       "         0.34631239,  2.6783437 ],\n",
       "       [14.85416774, 15.09107168, 15.79863839, ...,  0.34631239,\n",
       "         0.        ,  2.50793635],\n",
       "       [14.38024641, 14.55549671, 15.22772661, ...,  2.6783437 ,\n",
       "         2.50793635,  0.        ]])"
      ]
     },
     "execution_count": 40,
     "metadata": {},
     "output_type": "execute_result"
    }
   ],
   "source": [
    "aux_df=test_dist_df.copy().reset_index(level=1)\n",
    "# test_dist_df.pivot(values='distance',columns='loc2', index=te)\n",
    "df_cols=aux_df.pivot(values='distance',columns='loc2')\n",
    "print(df_cols)\n",
    "df_cols.to_numpy()"
   ]
  },
  {
   "cell_type": "code",
   "execution_count": null,
   "metadata": {},
   "outputs": [],
   "source": []
  }
 ],
 "metadata": {
  "kernelspec": {
   "display_name": ".venv",
   "language": "python",
   "name": "python3"
  },
  "language_info": {
   "codemirror_mode": {
    "name": "ipython",
    "version": 3
   },
   "file_extension": ".py",
   "mimetype": "text/x-python",
   "name": "python",
   "nbconvert_exporter": "python",
   "pygments_lexer": "ipython3",
   "version": "3.10.9"
  }
 },
 "nbformat": 4,
 "nbformat_minor": 2
}
